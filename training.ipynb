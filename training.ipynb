{
  "nbformat": 4,
  "nbformat_minor": 0,
  "metadata": {
    "colab": {
      "name": "training.ipynb",
      "provenance": [],
      "collapsed_sections": [],
      "authorship_tag": "ABX9TyNmxE3Y9MLC85tvWOc7uwn7",
      "include_colab_link": true
    },
    "kernelspec": {
      "name": "python3",
      "display_name": "Python 3"
    },
    "language_info": {
      "name": "python"
    },
    "accelerator": "GPU"
  },
  "cells": [
    {
      "cell_type": "markdown",
      "metadata": {
        "id": "view-in-github",
        "colab_type": "text"
      },
      "source": [
        "<a href=\"https://colab.research.google.com/github/Sky0307/2022DLProject/blob/main/training.ipynb\" target=\"_parent\"><img src=\"https://colab.research.google.com/assets/colab-badge.svg\" alt=\"Open In Colab\"/></a>"
      ]
    },
    {
      "cell_type": "code",
      "execution_count": 29,
      "metadata": {
        "id": "A030ztCqkyBH"
      },
      "outputs": [],
      "source": [
        "import h5py\n",
        "import json\n",
        "import librosa\n",
        "import matplotlib.pyplot as plt\n",
        "import numpy as np\n",
        "import os\n",
        "import pandas as pd\n",
        "import time\n",
        "import torch\n",
        "import torch.nn as nn\n",
        "from torch.utils.data import Dataset, DataLoader\n",
        "from torch import optim\n",
        "import seaborn as sn"
      ]
    },
    {
      "cell_type": "code",
      "source": [
        "from google.colab import drive\n",
        "drive.mount('/content/drive')"
      ],
      "metadata": {
        "colab": {
          "base_uri": "https://localhost:8080/"
        },
        "id": "jz1rKRY3l2pl",
        "outputId": "50ee322c-2ca4-4e79-8abb-aef706d17dc6"
      },
      "execution_count": 2,
      "outputs": [
        {
          "output_type": "stream",
          "name": "stdout",
          "text": [
            "Drive already mounted at /content/drive; to attempt to forcibly remount, call drive.mount(\"/content/drive\", force_remount=True).\n"
          ]
        }
      ]
    },
    {
      "cell_type": "code",
      "source": [
        "directory = \"drive/MyDrive/datasets/\""
      ],
      "metadata": {
        "id": "jpmEXhdmo0jx"
      },
      "execution_count": 3,
      "outputs": []
    },
    {
      "cell_type": "markdown",
      "source": [
        "# Default Params"
      ],
      "metadata": {
        "id": "wVTkYfHjpwzh"
      }
    },
    {
      "cell_type": "code",
      "source": [
        "class Parameters:\n",
        "    def __init__(self):\n",
        "        self.batch_size = None\n",
        "        self.label_size = 10\n",
        "        self.epoch_num = None\n",
        "        self.sample_rate = 16000\n",
        "        self.use_cuda = True\n",
        "        self.cuda = torch.cuda.is_available() and self.use_cuda\n",
        "        self.log_step = None\n",
        "        self.dataset_len = None\n",
        "        self.dictionary = {0: 'pop',\n",
        "                           1: 'metal',\n",
        "                           2: 'disco',\n",
        "                           3: 'blues',\n",
        "                           4: 'reggae',\n",
        "                           5: 'classical',\n",
        "                           6: 'rock',\n",
        "                           7: 'hiphop',\n",
        "                           8: 'country',\n",
        "                           9: 'jazz'}\n",
        "        self.r_dictionary = {'pop': 0,\n",
        "                             'metal': 1,\n",
        "                             'disco': 2,\n",
        "                             'blues': 3,\n",
        "                             'reggae': 4,\n",
        "                             'classical': 5,\n",
        "                             'rock': 6,\n",
        "                             'hiphop': 7,\n",
        "                             'country': 8,\n",
        "                             'jazz': 9}\n",
        "\n",
        "        # pure GTZAN dataset\n",
        "        self.GTZAN_TRAIN_DATA = directory + 'training dataset/train.h5'\n",
        "        self.GTZAN_VAL_DATA = directory + 'training dataset/valid.h5'\n",
        "        self.GTZAN_TEST_DATA = directory + 'training dataset/test.h5'\n",
        "\n",
        "        # custom dataset 1\n",
        "        self.TRAIN_DATA_1 = directory + 'training dataset/custom_train.h5'\n",
        "        self.VAL_DATA_1 = directory + 'training dataset/custom_valid.h5'\n",
        "        self.TEST_DATA_1 = directory + 'training dataset/custom_test.h5'\n",
        "\n",
        "        # custom dataset 2\n",
        "        self.TRAIN_DATA_2 = directory + 'training dataset/custom_train_2.h5'\n",
        "        self.VAL_DATA_2 = directory + 'training dataset/custom_valid_2.h5'\n",
        "        self.TEST_DATA_2 = directory + 'training dataset/custom_test_2.h5'\n",
        "\n",
        "        self.MODEL_SAVE_FOLDER = directory + 'model/'\n",
        "        self.LOG_SAVE_FOLDER = directory + 'log/'\n",
        "\n",
        "        if self.cuda:\n",
        "            self.kwargs = {'num_workers': 1, 'pin_memory': True}\n",
        "        else:\n",
        "            self.kwargs = {}\n",
        "\n",
        "        self.learning_rate = 1e-5\n",
        "\n",
        "    def __str__(self):\n",
        "        out_string = \"The Batch Size is {0}\\n\" \\\n",
        "                     \"The Label Size is {1}\\n\" \\\n",
        "                     \"The Epoch Num is {2}\\n\" \\\n",
        "                     \"The Cuda is set to {3}\\n\" \\\n",
        "                     \"The log step is {4}\".format(self.batch_size,\n",
        "                                                  self.label_size,\n",
        "                                                  self.epoch_num,\n",
        "                                                  self.cuda,\n",
        "                                                  self.log_step)\n",
        "        return out_string"
      ],
      "metadata": {
        "id": "ItsugaINlmSP"
      },
      "execution_count": 4,
      "outputs": []
    },
    {
      "cell_type": "code",
      "source": [
        "Para = Parameters()\n",
        "Para.learning_rate = 1e-5\n",
        "Para.batch_size = 20\n",
        "Para.epoch_num = 40\n",
        "print(Para)"
      ],
      "metadata": {
        "colab": {
          "base_uri": "https://localhost:8080/"
        },
        "id": "mIkihIual3dL",
        "outputId": "8a7a1017-7517-489b-fee1-31a236a81c73"
      },
      "execution_count": 5,
      "outputs": [
        {
          "output_type": "stream",
          "name": "stdout",
          "text": [
            "The Batch Size is 20\n",
            "The Label Size is 10\n",
            "The Epoch Num is 40\n",
            "The Cuda is set to True\n",
            "The log step is None\n"
          ]
        }
      ]
    },
    {
      "cell_type": "code",
      "source": [
        "class TorchData(Dataset):\n",
        "  \"\"\"\n",
        "  To build the data loader\n",
        "  \"\"\"\n",
        "\n",
        "  def __init__(self, dataset_path):\n",
        "      \"\"\"\n",
        "      Take the h5py dataset\n",
        "      \"\"\"\n",
        "      super(TorchData, self).__init__()\n",
        "      self.dataset = h5py.File(dataset_path, 'r')\n",
        "      self.mel = self.dataset['mel']\n",
        "      self.tag = self.dataset['tag']\n",
        "\n",
        "      self.len = self.mel.shape[0]\n",
        "\n",
        "  def __len__(self):\n",
        "      return self.len\n",
        "\n",
        "  def __getitem__(self, index):\n",
        "      mel = self.mel[index].astype(np.float32)\n",
        "      mel = np.reshape(mel, (1, mel.shape[0], mel.shape[1]))\n",
        "      mel = torch.from_numpy(mel)\n",
        "      tag = torch.from_numpy(self.tag[index].astype(np.float32))\n",
        "      sample = {\"mel\": mel, \"tag\": tag}\n",
        "\n",
        "      return sample\n",
        "\n",
        "\n",
        "# define the data loaders\n",
        "def torch_dataset_loader(dataset, batch_size, shuffle, kwargs):\n",
        "    \"\"\"\n",
        "    take the h5py dataset\n",
        "    \"\"\"\n",
        "    loader = DataLoader(TorchData(dataset),\n",
        "                        batch_size=batch_size,\n",
        "                        shuffle=shuffle,\n",
        "                        **kwargs)\n",
        "    return loader"
      ],
      "metadata": {
        "id": "NP0WWxUtluic"
      },
      "execution_count": 6,
      "outputs": []
    },
    {
      "cell_type": "code",
      "source": [
        "class CnnModel(nn.Module):\n",
        "    def __init__(self):\n",
        "        super(CnnModel, self).__init__()\n",
        "        conv1 = nn.Conv2d(in_channels=1, out_channels=64, kernel_size=3, stride=1, padding=1)\n",
        "        torch.nn.init.xavier_uniform_(conv1.weight)\n",
        "        self.conv_block1 = nn.Sequential(conv1,\n",
        "                                        nn.BatchNorm2d(64),\n",
        "                                        nn.ReLU(),\n",
        "                                        nn.MaxPool2d(kernel_size=2))\n",
        "\n",
        "        conv2 = nn.Conv2d(in_channels=64, out_channels=128, kernel_size=3, stride=1, padding=1)\n",
        "        torch.nn.init.xavier_uniform_(conv2.weight)\n",
        "        self.conv_block2 = nn.Sequential(conv2,\n",
        "                                        nn.BatchNorm2d(128),\n",
        "                                        nn.ReLU(),\n",
        "                                        nn.MaxPool2d(kernel_size=2))\n",
        "\n",
        "        conv3 = nn.Conv2d(in_channels=128, out_channels=256, kernel_size=3, stride=1, padding=1)\n",
        "        torch.nn.init.xavier_uniform_(conv3.weight)\n",
        "        self.conv_block3 = nn.Sequential(conv3,\n",
        "                                        nn.BatchNorm2d(256),\n",
        "                                        nn.ReLU(),\n",
        "                                        nn.MaxPool2d(kernel_size=4))\n",
        "\n",
        "        conv4 = nn.Conv2d(in_channels=256, out_channels=512, kernel_size=3, stride=1, padding=1)\n",
        "        torch.nn.init.xavier_uniform_(conv4.weight)\n",
        "        self.conv_block4 = nn.Sequential(conv4,\n",
        "                                        nn.BatchNorm2d(512),\n",
        "                                        nn.ReLU(),\n",
        "                                        nn.MaxPool2d(kernel_size=4))\n",
        "\n",
        "        self.fc_block1 = nn.Sequential(nn.Linear(in_features=2048, out_features=1024),\n",
        "                                      nn.ReLU(),\n",
        "                                      nn.Dropout(0.6))\n",
        "\n",
        "        self.fc_block2 = nn.Sequential(nn.Linear(in_features=1024, out_features=256),\n",
        "                                      nn.ReLU(),\n",
        "                                      nn.Dropout(0.5))\n",
        "\n",
        "        self.output = nn.Sequential(nn.Linear(in_features=256, out_features=10),\n",
        "                                    nn.Softmax(dim=1))\n",
        "\n",
        "    def forward(self, input):\n",
        "        output = self.conv_block1(input)\n",
        "        output = self.conv_block2(output)\n",
        "        output = self.conv_block3(output)\n",
        "        output = self.conv_block4(output)\n",
        "\n",
        "        output = output.view(output.size()[0], -1)\n",
        "        output = self.fc_block1(output)\n",
        "        output = self.fc_block2(output)\n",
        "        final_out = self.output(output)\n",
        "        return final_out"
      ],
      "metadata": {
        "id": "zx6nWwvBu_v3"
      },
      "execution_count": 7,
      "outputs": []
    },
    {
      "cell_type": "markdown",
      "source": [
        "# Util function"
      ],
      "metadata": {
        "id": "UAo_WHw7jZTh"
      }
    },
    {
      "cell_type": "code",
      "source": [
        "def accuracy_function(output, target):\n",
        "    f_output = output.cpu() if Para.cuda else output.clone()\n",
        "    f_target = target.cpu() if Para.cuda else target.clone()\n",
        "\n",
        "    output_res = f_output.detach().numpy()\n",
        "    target_res = f_target.detach().numpy()\n",
        "    predicted_index = np.argmax(output_res, axis=1)\n",
        "    \n",
        "    target_index = np.argmax(target_res, axis=1)\n",
        "\n",
        "    # counter\n",
        "    correct = np.sum(predicted_index == target_index)\n",
        "    accuracy = correct / (output.shape[0])\n",
        "    return accuracy\n",
        "\n",
        "\n",
        "def matrix_tuple(output, target):\n",
        "    f_output = output.cpu() if Para.cuda else output.clone()\n",
        "    f_target = target.cpu() if Para.cuda else target.clone()\n",
        "\n",
        "    output_res = f_output.detach().numpy()\n",
        "    target_res = f_target.detach().numpy()\n",
        "    predicted_index = np.argmax(output_res, axis=1)\n",
        "    target_index = np.argmax(target_res, axis=1)\n",
        "    result_list = [[int(predicted_index[i]), int(target_index[i])] for i in range(len(predicted_index))]\n",
        "    return result_list\n",
        "\n",
        "\n",
        "# def bce_loss(output, target):\n",
        "#     loss_mlp = nn.BCELoss()\n",
        "#     loss = loss_mlp(output, target)\n",
        "#     return loss"
      ],
      "metadata": {
        "id": "B-p107BAjY9L"
      },
      "execution_count": 8,
      "outputs": []
    },
    {
      "cell_type": "markdown",
      "source": [
        "# Train"
      ],
      "metadata": {
        "id": "Ms1SMY7hnYCD"
      }
    },
    {
      "cell_type": "code",
      "source": [
        "def train(model, epoch, train_loader, optimizer, versatile=True):\n",
        "    start_time = time.time()\n",
        "    model = model.train()\n",
        "    train_loss = 0.\n",
        "    accuracy = 0.\n",
        "    batch_num = len(train_loader)\n",
        "    _index = 0\n",
        "\n",
        "    for _index, data in enumerate(train_loader):\n",
        "        spec_input, target = data['mel'], data['tag']\n",
        "\n",
        "        if Para.cuda:\n",
        "            spec_input = spec_input.cuda()\n",
        "            target = target.cuda()\n",
        "\n",
        "        optimizer.zero_grad()\n",
        "        predicted = model(spec_input)\n",
        "\n",
        "        # loss_value = bce_loss(predicted, target)\n",
        "        loss_mlp = nn.BCELoss()\n",
        "        loss_value = loss_mlp(predicted, target)\n",
        "        accuracy_value = accuracy_function(predicted, target)\n",
        "\n",
        "        loss_value.backward()\n",
        "        optimizer.step()\n",
        "\n",
        "        train_loss += loss_value.data.item()\n",
        "        accuracy += accuracy_value\n",
        "\n",
        "        if versatile:\n",
        "            if (_index + 1) % Para.log_step == 0:\n",
        "                elapsed = time.time() - start_time\n",
        "                print('Epoch{:3d} | {:3d}/{:3d} batches | {:5.2f}ms/ batch | BCE: {:5.4f} | Accuracy: {:5.2f}% |'\n",
        "                      .format(epoch, _index + 1, batch_num,\n",
        "                              elapsed * 1000 / (_index + 1),\n",
        "                              train_loss / (_index + 1),\n",
        "                              accuracy * 100 / (_index + 1)))\n",
        "\n",
        "    train_loss /= (_index + 1)\n",
        "    accuracy /= (_index + 1)\n",
        "\n",
        "    print('-' * 99)\n",
        "    print('End of training epoch {:3d} | time: {:5.2f}s | BCE: {:5.4f} | Accuracy: {:5.2f}% |'\n",
        "          .format(epoch, (time.time() - start_time),\n",
        "                  train_loss, accuracy * 100))\n",
        "\n",
        "    return train_loss, accuracy\n",
        "\n",
        "\n",
        "def test(model, epoch, use_loader):\n",
        "    start_time = time.time()\n",
        "    model = model.eval()\n",
        "    v_loss = 0.\n",
        "    accuracy = 0.\n",
        "    data_loader_use = use_loader\n",
        "    _index = 0\n",
        "    for _index, data in enumerate(data_loader_use):\n",
        "        spec_input, target = data['mel'], data['tag']\n",
        "\n",
        "        if Para.cuda:\n",
        "            spec_input = spec_input.cuda()\n",
        "            target = target.cuda()\n",
        "\n",
        "        with torch.no_grad():\n",
        "\n",
        "            predicted = model(spec_input)\n",
        "\n",
        "            # loss_value = bce_loss(predicted, target)\n",
        "\n",
        "            loss_mlp = nn.BCELoss()\n",
        "            loss_value = loss_mlp(predicted, target)\n",
        "            \n",
        "            accuracy_value = accuracy_function(predicted, target)\n",
        "\n",
        "            v_loss += loss_value.data.item()\n",
        "            accuracy += accuracy_value\n",
        "\n",
        "    v_loss /= (_index + 1)\n",
        "    accuracy /= (_index + 1)\n",
        "\n",
        "    print('End of validation epoch {:3d} | time: {:5.2f}s | BCE: {:5.4f} | Accuracy: {:5.2f}% |'\n",
        "          .format(epoch, (time.time() - start_time),\n",
        "                  v_loss, accuracy * 100))\n",
        "    print('-' * 99)\n",
        "\n",
        "    return v_loss, accuracy\n",
        "\n",
        "\n",
        "def record_matrix(model, use_loader, log_name):\n",
        "    model = model.eval()\n",
        "    data_loader_use = use_loader\n",
        "    _index = 0\n",
        "    result = list()\n",
        "    for _index, data in enumerate(data_loader_use):\n",
        "        spec_input, target = data['mel'], data['tag']\n",
        "\n",
        "        if Para.cuda:\n",
        "            spec_input = spec_input.cuda()\n",
        "            target = target.cuda()\n",
        "\n",
        "        with torch.no_grad():\n",
        "\n",
        "            predicted = model(spec_input)\n",
        "            m_tuple_list = matrix_tuple(predicted, target)\n",
        "            result += m_tuple_list\n",
        "\n",
        "    print('End of Matrix Record, Save file in {0}'.format(Para.LOG_SAVE_FOLDER + log_name))\n",
        "    print('-' * 99)\n",
        "    with open(Para.LOG_SAVE_FOLDER + log_name, 'w+') as f:\n",
        "        json.dump(result, f)\n",
        "    return\n",
        "\n",
        "\n",
        "def main_train(model, train_loader, valid_loader, log_name, save_name, lr=Para.learning_rate, epoch_num=Para.epoch_num):\n",
        "    Para.dataset_len = len(train_loader)\n",
        "    Para.log_step = len(train_loader) // 4\n",
        "    optimizer = torch.optim.RMSprop(model.parameters(), lr=lr)\n",
        "    scheduler = optim.lr_scheduler.ExponentialLR(optimizer, gamma=0.5)\n",
        "    t_loss, t_accu, v_loss, v_accu = [], [], [], []\n",
        "\n",
        "    decay_cnt = 0\n",
        "    for epoch in range(1,  epoch_num + 1):\n",
        "        if Para.cuda:\n",
        "            model.cuda()\n",
        "        train_loss, train_accuracy = train(model, epoch, train_loader, optimizer)\n",
        "        validation_loss, validation_accuracy = test(model, epoch, use_loader=valid_loader)\n",
        "\n",
        "        t_loss.append(train_loss)\n",
        "        t_accu.append(train_accuracy)\n",
        "\n",
        "        v_loss.append(validation_loss)\n",
        "        v_accu.append(validation_accuracy)\n",
        "\n",
        "        # use accuracy to find the best model\n",
        "        if np.max(t_accu) == t_accu[-1]:\n",
        "            print('***Found Best Training Model***')\n",
        "        if np.max(v_accu) == v_accu[-1]:\n",
        "            with open(Para.MODEL_SAVE_FOLDER + save_name, 'wb') as f:\n",
        "                torch.save(model.cpu().state_dict(), f)\n",
        "                print('***Best Validation Model Found and Saved***')\n",
        "\n",
        "        print('-' * 99)\n",
        "\n",
        "        # Use BCE loss value for learning rate scheduling\n",
        "        decay_cnt += 1\n",
        "\n",
        "        if np.min(t_loss) not in t_loss[-3:] and decay_cnt > 2:\n",
        "            scheduler.step()\n",
        "            decay_cnt = 0\n",
        "            print('***Learning rate decreased***')\n",
        "            print('-' * 99)\n",
        "\n",
        "    build_dict = {\n",
        "        \"train_loss\": t_loss,\n",
        "        \"train_accu\": t_accu,\n",
        "        \"valid_loss\": v_loss,\n",
        "        \"valid_accu\": v_accu,\n",
        "    }\n",
        "\n",
        "    with open(Para.LOG_SAVE_FOLDER + log_name, 'w+') as lf:\n",
        "        json.dump(build_dict, lf)\n",
        "\n",
        "    return build_dict"
      ],
      "metadata": {
        "id": "FJ3hZlDWwyc5"
      },
      "execution_count": 9,
      "outputs": []
    },
    {
      "cell_type": "code",
      "source": [
        "train_dataloader = torch_dataset_loader(Para.TRAIN_DATA_2, Para.batch_size, True, Para.kwargs)\n",
        "validation_dataloader = torch_dataset_loader(Para.VAL_DATA_2, Para.batch_size, False, Para.kwargs)\n",
        "test_dataloader = torch_dataset_loader(Para.TEST_DATA_2, Para.batch_size, False, Para.kwargs)"
      ],
      "metadata": {
        "id": "BQq064yutBAW"
      },
      "execution_count": 10,
      "outputs": []
    },
    {
      "cell_type": "markdown",
      "source": [
        "# Setting Parameters"
      ],
      "metadata": {
        "id": "fyX-0xRDnbg9"
      }
    },
    {
      "cell_type": "code",
      "source": [
        "CNN = CnnModel()\n",
        "res = main_train(model=CNN, \n",
        "                 train_loader=train_dataloader,\n",
        "                 valid_loader=validation_dataloader,\n",
        "                 log_name='CnnModel.json',\n",
        "                 save_name='CnnModel.pt',\n",
        "                 lr=Para.learning_rate,\n",
        "                 epoch_num=Para.epoch_num)"
      ],
      "metadata": {
        "colab": {
          "base_uri": "https://localhost:8080/"
        },
        "id": "DxbVQiZzn5yy",
        "outputId": "8108756f-07b5-4744-80ea-d3b28f30a401"
      },
      "execution_count": 11,
      "outputs": [
        {
          "output_type": "stream",
          "name": "stdout",
          "text": [
            "Epoch  1 | 123/495 batches | 42.02ms/ batch | BCE: 0.3115 | Accuracy: 22.56% |\n",
            "Epoch  1 | 246/495 batches | 39.05ms/ batch | BCE: 0.3033 | Accuracy: 26.26% |\n",
            "Epoch  1 | 369/495 batches | 38.89ms/ batch | BCE: 0.2962 | Accuracy: 28.51% |\n",
            "Epoch  1 | 492/495 batches | 37.32ms/ batch | BCE: 0.2892 | Accuracy: 30.73% |\n",
            "---------------------------------------------------------------------------------------------------\n",
            "End of training epoch   1 | time: 18.50s | BCE: 0.2890 | Accuracy: 30.75% |\n",
            "End of validation epoch   1 | time:  0.85s | BCE: 0.2467 | Accuracy: 40.84% |\n",
            "---------------------------------------------------------------------------------------------------\n",
            "***Found Best Training Model***\n",
            "***Best Validation Model Found and Saved***\n",
            "---------------------------------------------------------------------------------------------------\n",
            "Epoch  2 | 123/495 batches | 33.04ms/ batch | BCE: 0.2622 | Accuracy: 37.97% |\n",
            "Epoch  2 | 246/495 batches | 32.91ms/ batch | BCE: 0.2577 | Accuracy: 38.96% |\n",
            "Epoch  2 | 369/495 batches | 32.89ms/ batch | BCE: 0.2552 | Accuracy: 39.81% |\n",
            "Epoch  2 | 492/495 batches | 32.86ms/ batch | BCE: 0.2526 | Accuracy: 40.85% |\n",
            "---------------------------------------------------------------------------------------------------\n",
            "End of training epoch   2 | time: 16.30s | BCE: 0.2525 | Accuracy: 40.83% |\n",
            "End of validation epoch   2 | time:  0.84s | BCE: 0.2183 | Accuracy: 52.61% |\n",
            "---------------------------------------------------------------------------------------------------\n",
            "***Found Best Training Model***\n",
            "***Best Validation Model Found and Saved***\n",
            "---------------------------------------------------------------------------------------------------\n",
            "Epoch  3 | 123/495 batches | 40.80ms/ batch | BCE: 0.2399 | Accuracy: 44.59% |\n",
            "Epoch  3 | 246/495 batches | 40.43ms/ batch | BCE: 0.2370 | Accuracy: 45.45% |\n",
            "Epoch  3 | 369/495 batches | 40.10ms/ batch | BCE: 0.2359 | Accuracy: 46.29% |\n",
            "Epoch  3 | 492/495 batches | 38.72ms/ batch | BCE: 0.2335 | Accuracy: 46.83% |\n",
            "---------------------------------------------------------------------------------------------------\n",
            "End of training epoch   3 | time: 19.20s | BCE: 0.2335 | Accuracy: 46.81% |\n",
            "End of validation epoch   3 | time:  1.19s | BCE: 0.2018 | Accuracy: 57.00% |\n",
            "---------------------------------------------------------------------------------------------------\n",
            "***Found Best Training Model***\n",
            "***Best Validation Model Found and Saved***\n",
            "---------------------------------------------------------------------------------------------------\n",
            "Epoch  4 | 123/495 batches | 33.17ms/ batch | BCE: 0.2228 | Accuracy: 49.76% |\n",
            "Epoch  4 | 246/495 batches | 34.18ms/ batch | BCE: 0.2226 | Accuracy: 49.72% |\n",
            "Epoch  4 | 369/495 batches | 33.60ms/ batch | BCE: 0.2227 | Accuracy: 49.61% |\n",
            "Epoch  4 | 492/495 batches | 33.32ms/ batch | BCE: 0.2222 | Accuracy: 49.59% |\n",
            "---------------------------------------------------------------------------------------------------\n",
            "End of training epoch   4 | time: 16.53s | BCE: 0.2220 | Accuracy: 49.69% |\n",
            "End of validation epoch   4 | time:  0.83s | BCE: 0.1901 | Accuracy: 58.69% |\n",
            "---------------------------------------------------------------------------------------------------\n",
            "***Found Best Training Model***\n",
            "***Best Validation Model Found and Saved***\n",
            "---------------------------------------------------------------------------------------------------\n",
            "Epoch  5 | 123/495 batches | 32.87ms/ batch | BCE: 0.2063 | Accuracy: 54.84% |\n",
            "Epoch  5 | 246/495 batches | 33.09ms/ batch | BCE: 0.2098 | Accuracy: 53.21% |\n",
            "Epoch  5 | 369/495 batches | 33.66ms/ batch | BCE: 0.2096 | Accuracy: 52.93% |\n",
            "Epoch  5 | 492/495 batches | 33.33ms/ batch | BCE: 0.2095 | Accuracy: 53.12% |\n",
            "---------------------------------------------------------------------------------------------------\n",
            "End of training epoch   5 | time: 16.53s | BCE: 0.2096 | Accuracy: 53.08% |\n",
            "End of validation epoch   5 | time:  0.83s | BCE: 0.1804 | Accuracy: 61.29% |\n",
            "---------------------------------------------------------------------------------------------------\n",
            "***Found Best Training Model***\n",
            "***Best Validation Model Found and Saved***\n",
            "---------------------------------------------------------------------------------------------------\n",
            "Epoch  6 | 123/495 batches | 38.81ms/ batch | BCE: 0.2027 | Accuracy: 55.24% |\n",
            "Epoch  6 | 246/495 batches | 35.70ms/ batch | BCE: 0.1997 | Accuracy: 55.79% |\n",
            "Epoch  6 | 369/495 batches | 34.67ms/ batch | BCE: 0.1984 | Accuracy: 56.36% |\n",
            "Epoch  6 | 492/495 batches | 34.14ms/ batch | BCE: 0.1986 | Accuracy: 56.20% |\n",
            "---------------------------------------------------------------------------------------------------\n",
            "End of training epoch   6 | time: 16.93s | BCE: 0.1986 | Accuracy: 56.18% |\n",
            "End of validation epoch   6 | time:  0.83s | BCE: 0.1711 | Accuracy: 63.92% |\n",
            "---------------------------------------------------------------------------------------------------\n",
            "***Found Best Training Model***\n",
            "***Best Validation Model Found and Saved***\n",
            "---------------------------------------------------------------------------------------------------\n",
            "Epoch  7 | 123/495 batches | 33.07ms/ batch | BCE: 0.1907 | Accuracy: 57.60% |\n",
            "Epoch  7 | 246/495 batches | 32.81ms/ batch | BCE: 0.1896 | Accuracy: 58.82% |\n",
            "Epoch  7 | 369/495 batches | 33.45ms/ batch | BCE: 0.1893 | Accuracy: 58.74% |\n",
            "Epoch  7 | 492/495 batches | 33.46ms/ batch | BCE: 0.1882 | Accuracy: 59.09% |\n",
            "---------------------------------------------------------------------------------------------------\n",
            "End of training epoch   7 | time: 16.60s | BCE: 0.1882 | Accuracy: 59.13% |\n",
            "End of validation epoch   7 | time:  0.83s | BCE: 0.1592 | Accuracy: 68.40% |\n",
            "---------------------------------------------------------------------------------------------------\n",
            "***Found Best Training Model***\n",
            "***Best Validation Model Found and Saved***\n",
            "---------------------------------------------------------------------------------------------------\n",
            "Epoch  8 | 123/495 batches | 33.82ms/ batch | BCE: 0.1835 | Accuracy: 60.20% |\n",
            "Epoch  8 | 246/495 batches | 33.24ms/ batch | BCE: 0.1822 | Accuracy: 60.24% |\n",
            "Epoch  8 | 369/495 batches | 33.11ms/ batch | BCE: 0.1814 | Accuracy: 60.76% |\n",
            "Epoch  8 | 492/495 batches | 33.43ms/ batch | BCE: 0.1795 | Accuracy: 61.41% |\n",
            "---------------------------------------------------------------------------------------------------\n",
            "End of training epoch   8 | time: 16.58s | BCE: 0.1794 | Accuracy: 61.44% |\n",
            "End of validation epoch   8 | time:  0.83s | BCE: 0.1513 | Accuracy: 68.62% |\n",
            "---------------------------------------------------------------------------------------------------\n",
            "***Found Best Training Model***\n",
            "***Best Validation Model Found and Saved***\n",
            "---------------------------------------------------------------------------------------------------\n",
            "Epoch  9 | 123/495 batches | 33.85ms/ batch | BCE: 0.1744 | Accuracy: 63.78% |\n",
            "Epoch  9 | 246/495 batches | 33.24ms/ batch | BCE: 0.1736 | Accuracy: 63.52% |\n",
            "Epoch  9 | 369/495 batches | 33.01ms/ batch | BCE: 0.1728 | Accuracy: 63.32% |\n",
            "Epoch  9 | 492/495 batches | 32.90ms/ batch | BCE: 0.1713 | Accuracy: 63.81% |\n",
            "---------------------------------------------------------------------------------------------------\n",
            "End of training epoch   9 | time: 16.32s | BCE: 0.1714 | Accuracy: 63.79% |\n",
            "End of validation epoch   9 | time:  0.88s | BCE: 0.1443 | Accuracy: 70.98% |\n",
            "---------------------------------------------------------------------------------------------------\n",
            "***Found Best Training Model***\n",
            "***Best Validation Model Found and Saved***\n",
            "---------------------------------------------------------------------------------------------------\n",
            "Epoch 10 | 123/495 batches | 32.94ms/ batch | BCE: 0.1623 | Accuracy: 66.83% |\n",
            "Epoch 10 | 246/495 batches | 34.19ms/ batch | BCE: 0.1622 | Accuracy: 66.63% |\n",
            "Epoch 10 | 369/495 batches | 33.65ms/ batch | BCE: 0.1613 | Accuracy: 66.87% |\n",
            "Epoch 10 | 492/495 batches | 33.40ms/ batch | BCE: 0.1605 | Accuracy: 67.06% |\n",
            "---------------------------------------------------------------------------------------------------\n",
            "End of training epoch  10 | time: 16.57s | BCE: 0.1604 | Accuracy: 67.09% |\n",
            "End of validation epoch  10 | time:  0.84s | BCE: 0.1373 | Accuracy: 73.18% |\n",
            "---------------------------------------------------------------------------------------------------\n",
            "***Found Best Training Model***\n",
            "***Best Validation Model Found and Saved***\n",
            "---------------------------------------------------------------------------------------------------\n",
            "Epoch 11 | 123/495 batches | 33.22ms/ batch | BCE: 0.1522 | Accuracy: 68.90% |\n",
            "Epoch 11 | 246/495 batches | 33.62ms/ batch | BCE: 0.1543 | Accuracy: 68.03% |\n",
            "Epoch 11 | 369/495 batches | 35.57ms/ batch | BCE: 0.1527 | Accuracy: 68.41% |\n",
            "Epoch 11 | 492/495 batches | 35.22ms/ batch | BCE: 0.1528 | Accuracy: 68.45% |\n",
            "---------------------------------------------------------------------------------------------------\n",
            "End of training epoch  11 | time: 17.47s | BCE: 0.1528 | Accuracy: 68.46% |\n",
            "End of validation epoch  11 | time:  0.84s | BCE: 0.1285 | Accuracy: 74.30% |\n",
            "---------------------------------------------------------------------------------------------------\n",
            "***Found Best Training Model***\n",
            "***Best Validation Model Found and Saved***\n",
            "---------------------------------------------------------------------------------------------------\n",
            "Epoch 12 | 123/495 batches | 33.68ms/ batch | BCE: 0.1455 | Accuracy: 70.85% |\n",
            "Epoch 12 | 246/495 batches | 35.25ms/ batch | BCE: 0.1448 | Accuracy: 70.41% |\n",
            "Epoch 12 | 369/495 batches | 34.36ms/ batch | BCE: 0.1459 | Accuracy: 69.88% |\n",
            "Epoch 12 | 492/495 batches | 34.32ms/ batch | BCE: 0.1452 | Accuracy: 70.30% |\n",
            "---------------------------------------------------------------------------------------------------\n",
            "End of training epoch  12 | time: 17.03s | BCE: 0.1453 | Accuracy: 70.28% |\n",
            "End of validation epoch  12 | time:  0.84s | BCE: 0.1266 | Accuracy: 74.28% |\n",
            "---------------------------------------------------------------------------------------------------\n",
            "***Found Best Training Model***\n",
            "---------------------------------------------------------------------------------------------------\n",
            "Epoch 13 | 123/495 batches | 34.91ms/ batch | BCE: 0.1412 | Accuracy: 71.26% |\n",
            "Epoch 13 | 246/495 batches | 34.88ms/ batch | BCE: 0.1412 | Accuracy: 70.67% |\n",
            "Epoch 13 | 369/495 batches | 34.13ms/ batch | BCE: 0.1389 | Accuracy: 71.53% |\n",
            "Epoch 13 | 492/495 batches | 34.07ms/ batch | BCE: 0.1392 | Accuracy: 71.54% |\n",
            "---------------------------------------------------------------------------------------------------\n",
            "End of training epoch  13 | time: 16.90s | BCE: 0.1393 | Accuracy: 71.53% |\n",
            "End of validation epoch  13 | time:  0.83s | BCE: 0.1230 | Accuracy: 76.89% |\n",
            "---------------------------------------------------------------------------------------------------\n",
            "***Found Best Training Model***\n",
            "***Best Validation Model Found and Saved***\n",
            "---------------------------------------------------------------------------------------------------\n",
            "Epoch 14 | 123/495 batches | 35.82ms/ batch | BCE: 0.1324 | Accuracy: 73.29% |\n",
            "Epoch 14 | 246/495 batches | 34.37ms/ batch | BCE: 0.1305 | Accuracy: 73.15% |\n",
            "Epoch 14 | 369/495 batches | 33.77ms/ batch | BCE: 0.1308 | Accuracy: 73.43% |\n",
            "Epoch 14 | 492/495 batches | 33.53ms/ batch | BCE: 0.1318 | Accuracy: 73.18% |\n",
            "---------------------------------------------------------------------------------------------------\n",
            "End of training epoch  14 | time: 16.63s | BCE: 0.1317 | Accuracy: 73.23% |\n",
            "End of validation epoch  14 | time:  0.84s | BCE: 0.1169 | Accuracy: 76.72% |\n",
            "---------------------------------------------------------------------------------------------------\n",
            "***Found Best Training Model***\n",
            "---------------------------------------------------------------------------------------------------\n",
            "Epoch 15 | 123/495 batches | 33.37ms/ batch | BCE: 0.1233 | Accuracy: 75.20% |\n",
            "Epoch 15 | 246/495 batches | 33.06ms/ batch | BCE: 0.1235 | Accuracy: 75.53% |\n",
            "Epoch 15 | 369/495 batches | 32.93ms/ batch | BCE: 0.1235 | Accuracy: 75.30% |\n",
            "Epoch 15 | 492/495 batches | 33.39ms/ batch | BCE: 0.1242 | Accuracy: 75.18% |\n",
            "---------------------------------------------------------------------------------------------------\n",
            "End of training epoch  15 | time: 16.59s | BCE: 0.1241 | Accuracy: 75.19% |\n",
            "End of validation epoch  15 | time:  1.50s | BCE: 0.1091 | Accuracy: 78.25% |\n",
            "---------------------------------------------------------------------------------------------------\n",
            "***Found Best Training Model***\n",
            "***Best Validation Model Found and Saved***\n",
            "---------------------------------------------------------------------------------------------------\n",
            "Epoch 16 | 123/495 batches | 38.22ms/ batch | BCE: 0.1234 | Accuracy: 75.89% |\n",
            "Epoch 16 | 246/495 batches | 35.78ms/ batch | BCE: 0.1196 | Accuracy: 76.67% |\n",
            "Epoch 16 | 369/495 batches | 34.89ms/ batch | BCE: 0.1195 | Accuracy: 76.45% |\n",
            "Epoch 16 | 492/495 batches | 34.86ms/ batch | BCE: 0.1194 | Accuracy: 76.43% |\n",
            "---------------------------------------------------------------------------------------------------\n",
            "End of training epoch  16 | time: 17.29s | BCE: 0.1195 | Accuracy: 76.39% |\n",
            "End of validation epoch  16 | time:  0.83s | BCE: 0.1055 | Accuracy: 78.75% |\n",
            "---------------------------------------------------------------------------------------------------\n",
            "***Found Best Training Model***\n",
            "***Best Validation Model Found and Saved***\n",
            "---------------------------------------------------------------------------------------------------\n",
            "Epoch 17 | 123/495 batches | 33.01ms/ batch | BCE: 0.1161 | Accuracy: 77.28% |\n",
            "Epoch 17 | 246/495 batches | 33.43ms/ batch | BCE: 0.1123 | Accuracy: 78.21% |\n",
            "Epoch 17 | 369/495 batches | 33.18ms/ batch | BCE: 0.1123 | Accuracy: 77.66% |\n",
            "Epoch 17 | 492/495 batches | 33.61ms/ batch | BCE: 0.1138 | Accuracy: 77.42% |\n",
            "---------------------------------------------------------------------------------------------------\n",
            "End of training epoch  17 | time: 16.67s | BCE: 0.1137 | Accuracy: 77.43% |\n",
            "End of validation epoch  17 | time:  0.84s | BCE: 0.1023 | Accuracy: 80.44% |\n",
            "---------------------------------------------------------------------------------------------------\n",
            "***Found Best Training Model***\n",
            "***Best Validation Model Found and Saved***\n",
            "---------------------------------------------------------------------------------------------------\n",
            "Epoch 18 | 123/495 batches | 32.99ms/ batch | BCE: 0.1058 | Accuracy: 79.15% |\n",
            "Epoch 18 | 246/495 batches | 32.80ms/ batch | BCE: 0.1077 | Accuracy: 78.64% |\n",
            "Epoch 18 | 369/495 batches | 32.76ms/ batch | BCE: 0.1081 | Accuracy: 78.55% |\n",
            "Epoch 18 | 492/495 batches | 33.76ms/ batch | BCE: 0.1079 | Accuracy: 78.66% |\n",
            "---------------------------------------------------------------------------------------------------\n",
            "End of training epoch  18 | time: 16.75s | BCE: 0.1077 | Accuracy: 78.69% |\n",
            "End of validation epoch  18 | time:  0.84s | BCE: 0.0975 | Accuracy: 79.94% |\n",
            "---------------------------------------------------------------------------------------------------\n",
            "***Found Best Training Model***\n",
            "---------------------------------------------------------------------------------------------------\n",
            "Epoch 19 | 123/495 batches | 33.04ms/ batch | BCE: 0.1031 | Accuracy: 79.47% |\n",
            "Epoch 19 | 246/495 batches | 32.77ms/ batch | BCE: 0.1033 | Accuracy: 79.72% |\n",
            "Epoch 19 | 369/495 batches | 32.70ms/ batch | BCE: 0.1022 | Accuracy: 79.99% |\n",
            "Epoch 19 | 492/495 batches | 32.67ms/ batch | BCE: 0.1026 | Accuracy: 79.73% |\n",
            "---------------------------------------------------------------------------------------------------\n",
            "End of training epoch  19 | time: 16.21s | BCE: 0.1025 | Accuracy: 79.74% |\n",
            "End of validation epoch  19 | time:  0.84s | BCE: 0.0957 | Accuracy: 80.91% |\n",
            "---------------------------------------------------------------------------------------------------\n",
            "***Found Best Training Model***\n",
            "***Best Validation Model Found and Saved***\n",
            "---------------------------------------------------------------------------------------------------\n",
            "Epoch 20 | 123/495 batches | 33.55ms/ batch | BCE: 0.0974 | Accuracy: 81.18% |\n",
            "Epoch 20 | 246/495 batches | 34.25ms/ batch | BCE: 0.0983 | Accuracy: 81.04% |\n",
            "Epoch 20 | 369/495 batches | 33.69ms/ batch | BCE: 0.0988 | Accuracy: 80.83% |\n",
            "Epoch 20 | 492/495 batches | 33.40ms/ batch | BCE: 0.0984 | Accuracy: 80.89% |\n",
            "---------------------------------------------------------------------------------------------------\n",
            "End of training epoch  20 | time: 16.57s | BCE: 0.0984 | Accuracy: 80.88% |\n",
            "End of validation epoch  20 | time:  0.85s | BCE: 0.0909 | Accuracy: 81.72% |\n",
            "---------------------------------------------------------------------------------------------------\n",
            "***Found Best Training Model***\n",
            "***Best Validation Model Found and Saved***\n",
            "---------------------------------------------------------------------------------------------------\n",
            "Epoch 21 | 123/495 batches | 34.30ms/ batch | BCE: 0.0939 | Accuracy: 82.56% |\n",
            "Epoch 21 | 246/495 batches | 34.38ms/ batch | BCE: 0.0942 | Accuracy: 82.24% |\n",
            "Epoch 21 | 369/495 batches | 35.24ms/ batch | BCE: 0.0925 | Accuracy: 82.17% |\n",
            "Epoch 21 | 492/495 batches | 34.57ms/ batch | BCE: 0.0922 | Accuracy: 82.20% |\n",
            "---------------------------------------------------------------------------------------------------\n",
            "End of training epoch  21 | time: 17.14s | BCE: 0.0920 | Accuracy: 82.26% |\n",
            "End of validation epoch  21 | time:  1.01s | BCE: 0.0898 | Accuracy: 82.23% |\n",
            "---------------------------------------------------------------------------------------------------\n",
            "***Found Best Training Model***\n",
            "***Best Validation Model Found and Saved***\n",
            "---------------------------------------------------------------------------------------------------\n",
            "Epoch 22 | 123/495 batches | 35.35ms/ batch | BCE: 0.0880 | Accuracy: 83.41% |\n",
            "Epoch 22 | 246/495 batches | 33.96ms/ batch | BCE: 0.0883 | Accuracy: 83.50% |\n",
            "Epoch 22 | 369/495 batches | 33.48ms/ batch | BCE: 0.0865 | Accuracy: 83.62% |\n",
            "Epoch 22 | 492/495 batches | 33.24ms/ batch | BCE: 0.0877 | Accuracy: 83.33% |\n",
            "---------------------------------------------------------------------------------------------------\n",
            "End of training epoch  22 | time: 16.49s | BCE: 0.0878 | Accuracy: 83.30% |\n",
            "End of validation epoch  22 | time:  0.83s | BCE: 0.0940 | Accuracy: 81.31% |\n",
            "---------------------------------------------------------------------------------------------------\n",
            "***Found Best Training Model***\n",
            "---------------------------------------------------------------------------------------------------\n",
            "Epoch 23 | 123/495 batches | 34.47ms/ batch | BCE: 0.0834 | Accuracy: 84.96% |\n",
            "Epoch 23 | 246/495 batches | 34.73ms/ batch | BCE: 0.0825 | Accuracy: 85.00% |\n",
            "Epoch 23 | 369/495 batches | 35.07ms/ batch | BCE: 0.0836 | Accuracy: 84.34% |\n",
            "Epoch 23 | 492/495 batches | 34.66ms/ batch | BCE: 0.0836 | Accuracy: 84.24% |\n",
            "---------------------------------------------------------------------------------------------------\n",
            "End of training epoch  23 | time: 17.19s | BCE: 0.0836 | Accuracy: 84.26% |\n",
            "End of validation epoch  23 | time:  0.84s | BCE: 0.0882 | Accuracy: 83.44% |\n",
            "---------------------------------------------------------------------------------------------------\n",
            "***Found Best Training Model***\n",
            "***Best Validation Model Found and Saved***\n",
            "---------------------------------------------------------------------------------------------------\n",
            "Epoch 24 | 123/495 batches | 33.04ms/ batch | BCE: 0.0755 | Accuracy: 86.34% |\n",
            "Epoch 24 | 246/495 batches | 33.04ms/ batch | BCE: 0.0781 | Accuracy: 85.71% |\n",
            "Epoch 24 | 369/495 batches | 32.89ms/ batch | BCE: 0.0800 | Accuracy: 85.07% |\n",
            "Epoch 24 | 492/495 batches | 32.81ms/ batch | BCE: 0.0788 | Accuracy: 85.49% |\n",
            "---------------------------------------------------------------------------------------------------\n",
            "End of training epoch  24 | time: 16.28s | BCE: 0.0787 | Accuracy: 85.50% |\n",
            "End of validation epoch  24 | time:  0.84s | BCE: 0.0896 | Accuracy: 82.79% |\n",
            "---------------------------------------------------------------------------------------------------\n",
            "***Found Best Training Model***\n",
            "---------------------------------------------------------------------------------------------------\n",
            "Epoch 25 | 123/495 batches | 33.15ms/ batch | BCE: 0.0786 | Accuracy: 84.96% |\n",
            "Epoch 25 | 246/495 batches | 32.94ms/ batch | BCE: 0.0753 | Accuracy: 85.81% |\n",
            "Epoch 25 | 369/495 batches | 32.87ms/ batch | BCE: 0.0745 | Accuracy: 86.00% |\n",
            "Epoch 25 | 492/495 batches | 32.85ms/ batch | BCE: 0.0740 | Accuracy: 86.05% |\n",
            "---------------------------------------------------------------------------------------------------\n",
            "End of training epoch  25 | time: 16.30s | BCE: 0.0740 | Accuracy: 86.03% |\n",
            "End of validation epoch  25 | time:  0.85s | BCE: 0.0813 | Accuracy: 83.44% |\n",
            "---------------------------------------------------------------------------------------------------\n",
            "***Found Best Training Model***\n",
            "---------------------------------------------------------------------------------------------------\n",
            "Epoch 26 | 123/495 batches | 33.14ms/ batch | BCE: 0.0720 | Accuracy: 86.54% |\n",
            "Epoch 26 | 246/495 batches | 33.28ms/ batch | BCE: 0.0727 | Accuracy: 86.42% |\n",
            "Epoch 26 | 369/495 batches | 33.97ms/ batch | BCE: 0.0724 | Accuracy: 86.34% |\n",
            "Epoch 26 | 492/495 batches | 33.64ms/ batch | BCE: 0.0715 | Accuracy: 86.52% |\n",
            "---------------------------------------------------------------------------------------------------\n",
            "End of training epoch  26 | time: 16.69s | BCE: 0.0714 | Accuracy: 86.55% |\n",
            "End of validation epoch  26 | time:  0.84s | BCE: 0.0823 | Accuracy: 84.41% |\n",
            "---------------------------------------------------------------------------------------------------\n",
            "***Found Best Training Model***\n",
            "***Best Validation Model Found and Saved***\n",
            "---------------------------------------------------------------------------------------------------\n",
            "Epoch 27 | 123/495 batches | 35.98ms/ batch | BCE: 0.0645 | Accuracy: 88.74% |\n",
            "Epoch 27 | 246/495 batches | 35.42ms/ batch | BCE: 0.0648 | Accuracy: 88.72% |\n",
            "Epoch 27 | 369/495 batches | 35.37ms/ batch | BCE: 0.0656 | Accuracy: 88.48% |\n",
            "Epoch 27 | 492/495 batches | 35.99ms/ batch | BCE: 0.0660 | Accuracy: 88.21% |\n",
            "---------------------------------------------------------------------------------------------------\n",
            "End of training epoch  27 | time: 17.96s | BCE: 0.0660 | Accuracy: 88.21% |\n",
            "End of validation epoch  27 | time:  1.87s | BCE: 0.0782 | Accuracy: 85.24% |\n",
            "---------------------------------------------------------------------------------------------------\n",
            "***Found Best Training Model***\n",
            "***Best Validation Model Found and Saved***\n",
            "---------------------------------------------------------------------------------------------------\n",
            "Epoch 28 | 123/495 batches | 39.21ms/ batch | BCE: 0.0615 | Accuracy: 88.41% |\n",
            "Epoch 28 | 246/495 batches | 35.88ms/ batch | BCE: 0.0609 | Accuracy: 89.02% |\n",
            "Epoch 28 | 369/495 batches | 34.74ms/ batch | BCE: 0.0615 | Accuracy: 88.90% |\n",
            "Epoch 28 | 492/495 batches | 34.77ms/ batch | BCE: 0.0630 | Accuracy: 88.47% |\n",
            "---------------------------------------------------------------------------------------------------\n",
            "End of training epoch  28 | time: 17.26s | BCE: 0.0629 | Accuracy: 88.49% |\n",
            "End of validation epoch  28 | time:  1.04s | BCE: 0.0840 | Accuracy: 84.18% |\n",
            "---------------------------------------------------------------------------------------------------\n",
            "***Found Best Training Model***\n",
            "---------------------------------------------------------------------------------------------------\n",
            "Epoch 29 | 123/495 batches | 33.01ms/ batch | BCE: 0.0594 | Accuracy: 89.23% |\n",
            "Epoch 29 | 246/495 batches | 32.77ms/ batch | BCE: 0.0581 | Accuracy: 89.17% |\n",
            "Epoch 29 | 369/495 batches | 32.71ms/ batch | BCE: 0.0597 | Accuracy: 89.01% |\n",
            "Epoch 29 | 492/495 batches | 32.68ms/ batch | BCE: 0.0591 | Accuracy: 89.19% |\n",
            "---------------------------------------------------------------------------------------------------\n",
            "End of training epoch  29 | time: 16.21s | BCE: 0.0592 | Accuracy: 89.17% |\n",
            "End of validation epoch  29 | time:  0.84s | BCE: 0.0822 | Accuracy: 84.65% |\n",
            "---------------------------------------------------------------------------------------------------\n",
            "***Found Best Training Model***\n",
            "---------------------------------------------------------------------------------------------------\n",
            "Epoch 30 | 123/495 batches | 32.90ms/ batch | BCE: 0.0543 | Accuracy: 90.37% |\n",
            "Epoch 30 | 246/495 batches | 32.78ms/ batch | BCE: 0.0561 | Accuracy: 89.76% |\n",
            "Epoch 30 | 369/495 batches | 32.68ms/ batch | BCE: 0.0564 | Accuracy: 89.69% |\n",
            "Epoch 30 | 492/495 batches | 32.67ms/ batch | BCE: 0.0558 | Accuracy: 89.99% |\n",
            "---------------------------------------------------------------------------------------------------\n",
            "End of training epoch  30 | time: 16.21s | BCE: 0.0557 | Accuracy: 90.01% |\n",
            "End of validation epoch  30 | time:  0.84s | BCE: 0.0807 | Accuracy: 85.54% |\n",
            "---------------------------------------------------------------------------------------------------\n",
            "***Found Best Training Model***\n",
            "***Best Validation Model Found and Saved***\n",
            "---------------------------------------------------------------------------------------------------\n",
            "Epoch 31 | 123/495 batches | 37.45ms/ batch | BCE: 0.0536 | Accuracy: 89.76% |\n",
            "Epoch 31 | 246/495 batches | 35.02ms/ batch | BCE: 0.0529 | Accuracy: 89.98% |\n",
            "Epoch 31 | 369/495 batches | 34.49ms/ batch | BCE: 0.0526 | Accuracy: 90.31% |\n",
            "Epoch 31 | 492/495 batches | 34.00ms/ batch | BCE: 0.0528 | Accuracy: 90.34% |\n",
            "---------------------------------------------------------------------------------------------------\n",
            "End of training epoch  31 | time: 16.87s | BCE: 0.0527 | Accuracy: 90.35% |\n",
            "End of validation epoch  31 | time:  0.84s | BCE: 0.0855 | Accuracy: 82.86% |\n",
            "---------------------------------------------------------------------------------------------------\n",
            "***Found Best Training Model***\n",
            "---------------------------------------------------------------------------------------------------\n",
            "Epoch 32 | 123/495 batches | 32.99ms/ batch | BCE: 0.0481 | Accuracy: 92.07% |\n",
            "Epoch 32 | 246/495 batches | 32.77ms/ batch | BCE: 0.0503 | Accuracy: 91.24% |\n",
            "Epoch 32 | 369/495 batches | 33.37ms/ batch | BCE: 0.0498 | Accuracy: 91.22% |\n",
            "Epoch 32 | 492/495 batches | 33.16ms/ batch | BCE: 0.0486 | Accuracy: 91.55% |\n",
            "---------------------------------------------------------------------------------------------------\n",
            "End of training epoch  32 | time: 16.45s | BCE: 0.0488 | Accuracy: 91.52% |\n",
            "End of validation epoch  32 | time:  0.84s | BCE: 0.0921 | Accuracy: 81.50% |\n",
            "---------------------------------------------------------------------------------------------------\n",
            "***Found Best Training Model***\n",
            "---------------------------------------------------------------------------------------------------\n",
            "Epoch 33 | 123/495 batches | 33.02ms/ batch | BCE: 0.0445 | Accuracy: 91.75% |\n",
            "Epoch 33 | 246/495 batches | 32.84ms/ batch | BCE: 0.0455 | Accuracy: 91.73% |\n",
            "Epoch 33 | 369/495 batches | 33.23ms/ batch | BCE: 0.0454 | Accuracy: 91.96% |\n",
            "Epoch 33 | 492/495 batches | 33.24ms/ batch | BCE: 0.0452 | Accuracy: 92.11% |\n",
            "---------------------------------------------------------------------------------------------------\n",
            "End of training epoch  33 | time: 16.51s | BCE: 0.0452 | Accuracy: 92.09% |\n",
            "End of validation epoch  33 | time:  1.35s | BCE: 0.0714 | Accuracy: 86.28% |\n",
            "---------------------------------------------------------------------------------------------------\n",
            "***Found Best Training Model***\n",
            "***Best Validation Model Found and Saved***\n",
            "---------------------------------------------------------------------------------------------------\n",
            "Epoch 34 | 123/495 batches | 34.03ms/ batch | BCE: 0.0418 | Accuracy: 93.37% |\n",
            "Epoch 34 | 246/495 batches | 34.03ms/ batch | BCE: 0.0429 | Accuracy: 92.87% |\n",
            "Epoch 34 | 369/495 batches | 33.54ms/ batch | BCE: 0.0430 | Accuracy: 92.62% |\n",
            "Epoch 34 | 492/495 batches | 33.28ms/ batch | BCE: 0.0428 | Accuracy: 92.84% |\n",
            "---------------------------------------------------------------------------------------------------\n",
            "End of training epoch  34 | time: 16.51s | BCE: 0.0428 | Accuracy: 92.84% |\n",
            "End of validation epoch  34 | time:  0.85s | BCE: 0.0791 | Accuracy: 83.86% |\n",
            "---------------------------------------------------------------------------------------------------\n",
            "***Found Best Training Model***\n",
            "---------------------------------------------------------------------------------------------------\n",
            "Epoch 35 | 123/495 batches | 37.41ms/ batch | BCE: 0.0417 | Accuracy: 92.76% |\n",
            "Epoch 35 | 246/495 batches | 36.17ms/ batch | BCE: 0.0416 | Accuracy: 92.93% |\n",
            "Epoch 35 | 369/495 batches | 34.95ms/ batch | BCE: 0.0411 | Accuracy: 93.08% |\n",
            "Epoch 35 | 492/495 batches | 34.36ms/ batch | BCE: 0.0407 | Accuracy: 93.12% |\n",
            "---------------------------------------------------------------------------------------------------\n",
            "End of training epoch  35 | time: 17.04s | BCE: 0.0407 | Accuracy: 93.12% |\n",
            "End of validation epoch  35 | time:  0.84s | BCE: 0.0712 | Accuracy: 86.50% |\n",
            "---------------------------------------------------------------------------------------------------\n",
            "***Found Best Training Model***\n",
            "***Best Validation Model Found and Saved***\n",
            "---------------------------------------------------------------------------------------------------\n",
            "Epoch 36 | 123/495 batches | 33.06ms/ batch | BCE: 0.0366 | Accuracy: 94.23% |\n",
            "Epoch 36 | 246/495 batches | 32.82ms/ batch | BCE: 0.0377 | Accuracy: 93.82% |\n",
            "Epoch 36 | 369/495 batches | 32.96ms/ batch | BCE: 0.0385 | Accuracy: 93.81% |\n",
            "Epoch 36 | 492/495 batches | 32.92ms/ batch | BCE: 0.0380 | Accuracy: 93.89% |\n",
            "---------------------------------------------------------------------------------------------------\n",
            "End of training epoch  36 | time: 16.34s | BCE: 0.0380 | Accuracy: 93.86% |\n",
            "End of validation epoch  36 | time:  0.84s | BCE: 0.0802 | Accuracy: 85.78% |\n",
            "---------------------------------------------------------------------------------------------------\n",
            "***Found Best Training Model***\n",
            "---------------------------------------------------------------------------------------------------\n",
            "Epoch 37 | 123/495 batches | 33.07ms/ batch | BCE: 0.0325 | Accuracy: 95.20% |\n",
            "Epoch 37 | 246/495 batches | 32.86ms/ batch | BCE: 0.0334 | Accuracy: 94.82% |\n",
            "Epoch 37 | 369/495 batches | 32.72ms/ batch | BCE: 0.0353 | Accuracy: 94.28% |\n",
            "Epoch 37 | 492/495 batches | 32.67ms/ batch | BCE: 0.0355 | Accuracy: 94.09% |\n",
            "---------------------------------------------------------------------------------------------------\n",
            "End of training epoch  37 | time: 16.21s | BCE: 0.0354 | Accuracy: 94.11% |\n",
            "End of validation epoch  37 | time:  0.86s | BCE: 0.0688 | Accuracy: 86.42% |\n",
            "---------------------------------------------------------------------------------------------------\n",
            "***Found Best Training Model***\n",
            "---------------------------------------------------------------------------------------------------\n",
            "Epoch 38 | 123/495 batches | 34.19ms/ batch | BCE: 0.0324 | Accuracy: 94.43% |\n",
            "Epoch 38 | 246/495 batches | 33.39ms/ batch | BCE: 0.0325 | Accuracy: 94.51% |\n",
            "Epoch 38 | 369/495 batches | 33.11ms/ batch | BCE: 0.0324 | Accuracy: 94.70% |\n",
            "Epoch 38 | 492/495 batches | 32.99ms/ batch | BCE: 0.0327 | Accuracy: 94.67% |\n",
            "---------------------------------------------------------------------------------------------------\n",
            "End of training epoch  38 | time: 16.37s | BCE: 0.0327 | Accuracy: 94.67% |\n",
            "End of validation epoch  38 | time:  0.86s | BCE: 0.0679 | Accuracy: 86.91% |\n",
            "---------------------------------------------------------------------------------------------------\n",
            "***Found Best Training Model***\n",
            "***Best Validation Model Found and Saved***\n",
            "---------------------------------------------------------------------------------------------------\n",
            "Epoch 39 | 123/495 batches | 36.05ms/ batch | BCE: 0.0315 | Accuracy: 95.16% |\n",
            "Epoch 39 | 246/495 batches | 37.28ms/ batch | BCE: 0.0321 | Accuracy: 95.10% |\n",
            "Epoch 39 | 369/495 batches | 36.25ms/ batch | BCE: 0.0315 | Accuracy: 94.97% |\n",
            "Epoch 39 | 492/495 batches | 35.32ms/ batch | BCE: 0.0313 | Accuracy: 95.06% |\n",
            "---------------------------------------------------------------------------------------------------\n",
            "End of training epoch  39 | time: 17.51s | BCE: 0.0313 | Accuracy: 95.05% |\n",
            "End of validation epoch  39 | time:  0.84s | BCE: 0.0757 | Accuracy: 86.67% |\n",
            "---------------------------------------------------------------------------------------------------\n",
            "***Found Best Training Model***\n",
            "---------------------------------------------------------------------------------------------------\n",
            "Epoch 40 | 123/495 batches | 32.98ms/ batch | BCE: 0.0267 | Accuracy: 96.02% |\n",
            "Epoch 40 | 246/495 batches | 34.45ms/ batch | BCE: 0.0274 | Accuracy: 95.91% |\n",
            "Epoch 40 | 369/495 batches | 35.36ms/ batch | BCE: 0.0271 | Accuracy: 95.93% |\n",
            "Epoch 40 | 492/495 batches | 35.04ms/ batch | BCE: 0.0268 | Accuracy: 96.03% |\n",
            "---------------------------------------------------------------------------------------------------\n",
            "End of training epoch  40 | time: 17.38s | BCE: 0.0268 | Accuracy: 96.04% |\n",
            "End of validation epoch  40 | time:  0.84s | BCE: 0.0716 | Accuracy: 86.75% |\n",
            "---------------------------------------------------------------------------------------------------\n",
            "***Found Best Training Model***\n",
            "---------------------------------------------------------------------------------------------------\n"
          ]
        }
      ]
    },
    {
      "cell_type": "markdown",
      "source": [
        "# Test Model"
      ],
      "metadata": {
        "id": "g11zxGp19gB3"
      }
    },
    {
      "cell_type": "code",
      "source": [
        "CNN.cuda().load_state_dict(torch.load(Para.MODEL_SAVE_FOLDER + 'CnnModel.pt'))\n",
        "test(model=CNN, epoch=0, use_loader=test_dataloader)"
      ],
      "metadata": {
        "colab": {
          "base_uri": "https://localhost:8080/"
        },
        "id": "rlLXrD-L9hsO",
        "outputId": "90582282-8a8c-4943-c524-fc53fb3d6c10"
      },
      "execution_count": 12,
      "outputs": [
        {
          "output_type": "stream",
          "name": "stdout",
          "text": [
            "End of validation epoch   0 | time:  1.00s | BCE: 0.0701 | Accuracy: 85.78% |\n",
            "---------------------------------------------------------------------------------------------------\n"
          ]
        },
        {
          "output_type": "execute_result",
          "data": {
            "text/plain": [
              "(0.07008458397561504, 0.8577798861480075)"
            ]
          },
          "metadata": {},
          "execution_count": 12
        }
      ]
    },
    {
      "cell_type": "code",
      "source": [
        "CNN.cuda().load_state_dict(torch.load(Para.MODEL_SAVE_FOLDER + 'CnnModel.pt'))\n",
        "record_matrix(model=CNN, use_loader=test_dataloader, log_name='CnnMatrix.json')"
      ],
      "metadata": {
        "colab": {
          "base_uri": "https://localhost:8080/"
        },
        "id": "5inCGcaJ9unD",
        "outputId": "f731b41f-e506-4daa-edac-3653f0911b40"
      },
      "execution_count": 13,
      "outputs": [
        {
          "output_type": "stream",
          "name": "stdout",
          "text": [
            "End of Matrix Record, Save file in drive/MyDrive/datasets/log/CnnMatrix.json\n",
            "---------------------------------------------------------------------------------------------------\n"
          ]
        }
      ]
    },
    {
      "cell_type": "markdown",
      "source": [
        "# Testing on Full Song"
      ],
      "metadata": {
        "id": "x6mSmR5ztznr"
      }
    },
    {
      "cell_type": "code",
      "source": [
        "class FullSongTester:\n",
        "    def __init__(self, weight_path, model, size=128):\n",
        "        self.model = model\n",
        "        self.index = size\n",
        "        self.remove = 15  # remove the first and last 15 s\n",
        "        self.model.load_state_dict(torch.load(weight_path, map_location='cpu'))\n",
        "        self.model = model.eval()\n",
        "\n",
        "    def audio_loader(self, audio_path):\n",
        "        y, _ = librosa.load(audio_path, mono=True, sr=Para.sample_rate)\n",
        "        y = y[self.remove*Para.sample_rate: -1*self.remove*Para.sample_rate]\n",
        "        y = librosa.feature.melspectrogram(y=y, sr=Para.sample_rate, n_mels=self.index).T\n",
        "        y = librosa.power_to_db(y)\n",
        "        if not y.shape[0] % self.index == 0:\n",
        "            y = y[:-1 * (y.shape[0] % self.index)]\n",
        "        chunk_num = int(y.shape[0] / self.index)\n",
        "        mel_chunks = np.split(y, chunk_num)\n",
        "        return mel_chunks\n",
        "\n",
        "    def get_genre(self, audio_path):\n",
        "        print(\"Test on {0}\".format(audio_path.split('/')[-1]))\n",
        "        tag_list = dict()\n",
        "        idx_list = [x for x in range(10)]\n",
        "        for idx in idx_list:\n",
        "            tag_list[idx] = 0\n",
        "\n",
        "        for i, data in enumerate(self.audio_loader(audio_path)):\n",
        "            with torch.no_grad():\n",
        "                data = torch.FloatTensor(data).view(1, 1, self.index, self.index)  # resize to fit it in model\n",
        "                predict = self.model(data)\n",
        "                score, tag = predict.max(1)\n",
        "            tag_list[int(tag)] = tag_list.get(int(tag)) + float(score)\n",
        "\n",
        "        _sum = sum([tag_list.get(key) for key in tag_list])\n",
        "\n",
        "        idx_list.sort(key=lambda x: -1 * tag_list.get(x))\n",
        "        tmp = dict()\n",
        "        for i in idx_list:\n",
        "            current_genre = Para.dictionary.get(i)\n",
        "            current_score = tag_list.get(i) / _sum * 100\n",
        "            tmp[i] = current_score\n",
        "            if current_score == 0:\n",
        "                break\n",
        "            print('Genre {0}: {1}%'.format(current_genre, round(current_score, 2)))\n",
        "        return idx_list[0], idx_list[1], idx_list[2], tmp\n"
      ],
      "metadata": {
        "id": "AOkPB80ot1tA"
      },
      "execution_count": 15,
      "outputs": []
    },
    {
      "cell_type": "code",
      "source": [
        "WEIGHT_PATH = directory + \"model/\"\n",
        "cnn_dealer = FullSongTester(WEIGHT_PATH + \"CnnModel.pt\", CnnModel())"
      ],
      "metadata": {
        "id": "tjZAPSCm0f9B"
      },
      "execution_count": 16,
      "outputs": []
    },
    {
      "cell_type": "code",
      "source": [
        "data_path = directory + 'sample_music/'\n",
        "genre_path_dict = dict()\n",
        "label_dict = Para.r_dictionary\n",
        "\n",
        "for (dirpath, dirnames, filenames) in os.walk(data_path):\n",
        "    if dirnames:\n",
        "        print(\"dirnames: {}\".format(dirnames))\n",
        "        for idx, genre in enumerate(dirnames):\n",
        "            genre_path_dict[genre] = list()\n",
        "        continue\n",
        "    else:\n",
        "        genre = dirpath.split('/')[-1]\n",
        "        for au_file in filenames:\n",
        "            if 'mp3' in au_file:\n",
        "                current_path = dirpath + '/' + au_file\n",
        "                genre_path_dict[genre].append(current_path)\n",
        "\n",
        "total_file = sum([len(genre_path_dict[genre]) for genre in genre_path_dict])\n",
        "total_file, label_dict, genre_path_dict"
      ],
      "metadata": {
        "colab": {
          "base_uri": "https://localhost:8080/"
        },
        "id": "-V1ClEDX0nqR",
        "outputId": "fa7eb642-bbc3-4261-a42d-df80c66e005b"
      },
      "execution_count": 17,
      "outputs": [
        {
          "output_type": "stream",
          "name": "stdout",
          "text": [
            "dirnames: ['reggae', 'disco', 'rock', 'jazz', 'metal', 'blues', 'pop', 'classical', 'hiphop', 'country']\n"
          ]
        },
        {
          "output_type": "execute_result",
          "data": {
            "text/plain": [
              "(23,\n",
              " {'blues': 3,\n",
              "  'classical': 5,\n",
              "  'country': 8,\n",
              "  'disco': 2,\n",
              "  'hiphop': 7,\n",
              "  'jazz': 9,\n",
              "  'metal': 1,\n",
              "  'pop': 0,\n",
              "  'reggae': 4,\n",
              "  'rock': 6},\n",
              " {'blues': ['drive/MyDrive/datasets/sample_music/blues/Christian Willisohn - Blues In My Bottle.mp3',\n",
              "   'drive/MyDrive/datasets/sample_music/blues/Buster Benton - Money Is The Name of The Game.mp3'],\n",
              "  'classical': ['drive/MyDrive/datasets/sample_music/classical/F. Chopin  - Nocturne in c sharp minor for violin and piano_ YuEun Kim, Violin .mp3',\n",
              "   \"drive/MyDrive/datasets/sample_music/classical/Mariage d'Amour - Paul de Senneville _ Jacob's Piano.mp3\",\n",
              "   'drive/MyDrive/datasets/sample_music/classical/River Flows In You.mp3'],\n",
              "  'country': ['drive/MyDrive/datasets/sample_music/country/Friends in low places lyrics Garth Brooks.mp3',\n",
              "   'drive/MyDrive/datasets/sample_music/country/Lee Ann Womack - I Hope You Dance (Official Music Video).mp3'],\n",
              "  'disco': [\"drive/MyDrive/datasets/sample_music/disco/The O'Jays - Love Train.mp3\",\n",
              "   'drive/MyDrive/datasets/sample_music/disco/I Will Survive.mp3'],\n",
              "  'hiphop': ['drive/MyDrive/datasets/sample_music/hiphop/Offset - Clout ft. Cardi B (Official Video).mp3',\n",
              "   'drive/MyDrive/datasets/sample_music/hiphop/野狼disco.mp3',\n",
              "   'drive/MyDrive/datasets/sample_music/hiphop/Wu-Tang Clan - C.R.E.A.M. (Official HD Video)-PBwAxmrE194.mp3'],\n",
              "  'jazz': ['drive/MyDrive/datasets/sample_music/jazz/John Coltrane - Naima (2020 Remaster) [Official Audio].mp3',\n",
              "   'drive/MyDrive/datasets/sample_music/jazz/Goodbye Pork Pie Hat.mp3'],\n",
              "  'metal': ['drive/MyDrive/datasets/sample_music/metal/Critical Acclaim.mp3',\n",
              "   'drive/MyDrive/datasets/sample_music/metal/Opening Tokyo Ghoul - Unravel  [Lyrics].mp3'],\n",
              "  'pop': ['drive/MyDrive/datasets/sample_music/pop/Panic! At The Disco - High Hopes (Official Video).mp3',\n",
              "   'drive/MyDrive/datasets/sample_music/pop/Camila Cabello - Havana ft. Young Thug.mp3',\n",
              "   'drive/MyDrive/datasets/sample_music/pop/Adele - Hello.mp3'],\n",
              "  'reggae': ['drive/MyDrive/datasets/sample_music/reggae/Shaggy - Oh Carolina 1993 (Official HQ).mp3',\n",
              "   'drive/MyDrive/datasets/sample_music/reggae/John Holt   Police In Helicopter.mp3'],\n",
              "  'rock': ['drive/MyDrive/datasets/sample_music/rock/Godsmack - I Stand Alone (Official Music Video.mp3',\n",
              "   \"drive/MyDrive/datasets/sample_music/rock/Elvis Presley 'Hound Dog' (October 28, 1956) on The Ed Sullivan Show.mp3\"]})"
            ]
          },
          "metadata": {},
          "execution_count": 17
        }
      ]
    },
    {
      "cell_type": "code",
      "source": [
        "import warnings\n",
        "warnings.filterwarnings('ignore')"
      ],
      "metadata": {
        "id": "dZzwtzCCCFtq"
      },
      "execution_count": 18,
      "outputs": []
    },
    {
      "cell_type": "code",
      "source": [
        "def test_model(dealer, save_name):\n",
        "    test_result = dict()\n",
        "    for key in genre_path_dict:\n",
        "        test_result[key] = 0\n",
        "        print('test on sample {0}'.format(key))\n",
        "        for file_name in genre_path_dict.get(key):\n",
        "            res1, res2, res3, score = dealer.get_genre(file_name)\n",
        "            if res1 == label_dict.get(key):\n",
        "                test_result[key] += score.get(res1)\n",
        "            elif res2 == label_dict.get(key):\n",
        "                test_result[key] += score.get(res2)\n",
        "            elif res3 == label_dict.get(key):\n",
        "                test_result[key] += score.get(res3)\n",
        "            print(\"*\"*99)\n",
        "        test_result[key] /= 300\n",
        "        print(test_result[key])\n",
        "        print(\"+\"*99)\n",
        "    with open(Para.LOG_SAVE_FOLDER + save_name, 'w+') as f:\n",
        "        json.dump(test_result, f)\n",
        "    return\n",
        "test_model(cnn_dealer, 'cnnFullSongTest.json')\n"
      ],
      "metadata": {
        "colab": {
          "base_uri": "https://localhost:8080/"
        },
        "id": "zsCOi86k2Oif",
        "outputId": "82438e78-e36b-4fd7-a704-4c554a1c65e7"
      },
      "execution_count": 45,
      "outputs": [
        {
          "output_type": "stream",
          "name": "stdout",
          "text": [
            "test on sample reggae\n",
            "Test on Shaggy - Oh Carolina 1993 (Official HQ).mp3\n",
            "Genre pop: 91.41%\n",
            "Genre blues: 4.9%\n",
            "Genre hiphop: 3.69%\n",
            "***************************************************************************************************\n",
            "Test on John Holt   Police In Helicopter.mp3\n",
            "Genre reggae: 95.93%\n",
            "Genre hiphop: 4.07%\n",
            "***************************************************************************************************\n",
            "0.319756358739573\n",
            "+++++++++++++++++++++++++++++++++++++++++++++++++++++++++++++++++++++++++++++++++++++++++++++++++++\n",
            "test on sample disco\n",
            "Test on The O'Jays - Love Train.mp3\n",
            "Genre disco: 88.85%\n",
            "Genre rock: 7.28%\n",
            "Genre country: 3.87%\n",
            "***************************************************************************************************\n",
            "Test on I Will Survive.mp3\n",
            "Genre disco: 97.12%\n",
            "Genre country: 1.67%\n",
            "Genre pop: 1.21%\n",
            "***************************************************************************************************\n",
            "0.6198953243230944\n",
            "+++++++++++++++++++++++++++++++++++++++++++++++++++++++++++++++++++++++++++++++++++++++++++++++++++\n",
            "test on sample rock\n",
            "Test on Godsmack - I Stand Alone (Official Music Video.mp3\n",
            "Genre metal: 84.14%\n",
            "Genre jazz: 6.93%\n",
            "Genre rock: 6.92%\n",
            "Genre classical: 1.02%\n",
            "Genre pop: 0.98%\n",
            "***************************************************************************************************\n",
            "Test on Elvis Presley 'Hound Dog' (October 28, 1956) on The Ed Sullivan Show.mp3\n",
            "Genre rock: 89.84%\n",
            "Genre classical: 7.82%\n",
            "Genre metal: 1.46%\n",
            "Genre pop: 0.89%\n",
            "***************************************************************************************************\n",
            "0.3225466388561679\n",
            "+++++++++++++++++++++++++++++++++++++++++++++++++++++++++++++++++++++++++++++++++++++++++++++++++++\n",
            "test on sample jazz\n",
            "Test on John Coltrane - Naima (2020 Remaster) [Official Audio].mp3\n",
            "Genre jazz: 95.61%\n",
            "Genre classical: 4.39%\n",
            "***************************************************************************************************\n",
            "Test on Goodbye Pork Pie Hat.mp3\n",
            "Genre jazz: 96.29%\n",
            "Genre classical: 3.17%\n",
            "Genre rock: 0.54%\n",
            "***************************************************************************************************\n",
            "0.6396885528534733\n",
            "+++++++++++++++++++++++++++++++++++++++++++++++++++++++++++++++++++++++++++++++++++++++++++++++++++\n",
            "test on sample metal\n",
            "Test on Critical Acclaim.mp3\n",
            "Genre metal: 87.78%\n",
            "Genre hiphop: 7.06%\n",
            "Genre classical: 3.18%\n",
            "Genre pop: 1.15%\n",
            "Genre rock: 0.83%\n",
            "***************************************************************************************************\n",
            "Test on Opening Tokyo Ghoul - Unravel  [Lyrics].mp3\n",
            "Genre pop: 74.18%\n",
            "Genre metal: 22.51%\n",
            "Genre classical: 2.21%\n",
            "Genre hiphop: 1.1%\n",
            "***************************************************************************************************\n",
            "0.36760877028400196\n",
            "+++++++++++++++++++++++++++++++++++++++++++++++++++++++++++++++++++++++++++++++++++++++++++++++++++\n",
            "test on sample blues\n",
            "Test on Christian Willisohn - Blues In My Bottle.mp3\n",
            "Genre pop: 65.79%\n",
            "Genre jazz: 15.58%\n",
            "Genre blues: 9.24%\n",
            "Genre country: 8.86%\n",
            "Genre reggae: 0.52%\n",
            "***************************************************************************************************\n",
            "Test on Buster Benton - Money Is The Name of The Game.mp3\n",
            "Genre pop: 41.16%\n",
            "Genre blues: 37.45%\n",
            "Genre reggae: 14.97%\n",
            "Genre country: 3.93%\n",
            "Genre hiphop: 1.83%\n",
            "Genre rock: 0.66%\n",
            "***************************************************************************************************\n",
            "0.155634061148808\n",
            "+++++++++++++++++++++++++++++++++++++++++++++++++++++++++++++++++++++++++++++++++++++++++++++++++++\n",
            "test on sample pop\n",
            "Test on Panic! At The Disco - High Hopes (Official Video).mp3\n",
            "Genre pop: 76.43%\n",
            "Genre country: 13.55%\n",
            "Genre blues: 4.05%\n",
            "Genre rock: 2.57%\n",
            "Genre hiphop: 2.3%\n",
            "Genre reggae: 1.1%\n",
            "***************************************************************************************************\n",
            "Test on Camila Cabello - Havana ft. Young Thug.mp3\n",
            "Genre pop: 67.35%\n",
            "Genre blues: 12.85%\n",
            "Genre hiphop: 9.36%\n",
            "Genre reggae: 7.55%\n",
            "Genre rock: 2.89%\n",
            "***************************************************************************************************\n",
            "Test on Adele - Hello.mp3\n",
            "Genre pop: 77.43%\n",
            "Genre blues: 6.33%\n",
            "Genre classical: 4.57%\n",
            "Genre country: 4.27%\n",
            "Genre metal: 2.73%\n",
            "Genre jazz: 2.42%\n",
            "Genre hiphop: 1.47%\n",
            "Genre rock: 0.41%\n",
            "Genre disco: 0.37%\n",
            "***************************************************************************************************\n",
            "0.7373960271618867\n",
            "+++++++++++++++++++++++++++++++++++++++++++++++++++++++++++++++++++++++++++++++++++++++++++++++++++\n",
            "test on sample classical\n",
            "Test on F. Chopin  - Nocturne in c sharp minor for violin and piano_ YuEun Kim, Violin .mp3\n",
            "Genre classical: 100.0%\n",
            "***************************************************************************************************\n",
            "Test on Mariage d'Amour - Paul de Senneville _ Jacob's Piano.mp3\n",
            "Genre classical: 98.57%\n",
            "Genre jazz: 1.43%\n",
            "***************************************************************************************************\n",
            "Test on River Flows In You.mp3\n",
            "Genre classical: 72.01%\n",
            "Genre pop: 23.49%\n",
            "Genre jazz: 3.27%\n",
            "Genre country: 1.24%\n",
            "***************************************************************************************************\n",
            "0.9019170682950179\n",
            "+++++++++++++++++++++++++++++++++++++++++++++++++++++++++++++++++++++++++++++++++++++++++++++++++++\n",
            "test on sample hiphop\n",
            "Test on Offset - Clout ft. Cardi B (Official Video).mp3\n",
            "Genre hiphop: 65.78%\n",
            "Genre pop: 32.97%\n",
            "Genre blues: 1.24%\n",
            "***************************************************************************************************\n",
            "Test on 野狼disco.mp3\n",
            "Genre pop: 51.91%\n",
            "Genre hiphop: 37.8%\n",
            "Genre metal: 3.33%\n",
            "Genre reggae: 2.59%\n",
            "Genre disco: 1.71%\n",
            "Genre classical: 1.1%\n",
            "Genre rock: 0.8%\n",
            "Genre blues: 0.75%\n",
            "***************************************************************************************************\n",
            "Test on Wu-Tang Clan - C.R.E.A.M. (Official HD Video)-PBwAxmrE194.mp3\n",
            "Genre hiphop: 96.88%\n",
            "Genre blues: 1.13%\n",
            "Genre reggae: 1.04%\n",
            "Genre pop: 0.95%\n",
            "***************************************************************************************************\n",
            "0.6682071616560155\n",
            "+++++++++++++++++++++++++++++++++++++++++++++++++++++++++++++++++++++++++++++++++++++++++++++++++++\n",
            "test on sample country\n",
            "Test on Friends in low places lyrics Garth Brooks.mp3\n",
            "Genre country: 66.83%\n",
            "Genre rock: 33.17%\n",
            "***************************************************************************************************\n",
            "Test on Lee Ann Womack - I Hope You Dance (Official Music Video).mp3\n",
            "Genre pop: 62.61%\n",
            "Genre country: 21.66%\n",
            "Genre classical: 7.74%\n",
            "Genre rock: 3.12%\n",
            "Genre jazz: 2.52%\n",
            "Genre blues: 2.36%\n",
            "***************************************************************************************************\n",
            "0.294966981797848\n",
            "+++++++++++++++++++++++++++++++++++++++++++++++++++++++++++++++++++++++++++++++++++++++++++++++++++\n"
          ]
        }
      ]
    },
    {
      "cell_type": "markdown",
      "source": [
        "# Visualization"
      ],
      "metadata": {
        "id": "ktiHZg6dxQlr"
      }
    },
    {
      "cell_type": "markdown",
      "source": [
        "## Training"
      ],
      "metadata": {
        "id": "NOQcgTfL9vVZ"
      }
    },
    {
      "cell_type": "code",
      "source": [
        "with open(Para.LOG_SAVE_FOLDER + 'CnnModel.json', 'r') as f:\n",
        "    cnn = json.load(f)"
      ],
      "metadata": {
        "id": "7HYZYzeO9yuT"
      },
      "execution_count": 20,
      "outputs": []
    },
    {
      "cell_type": "markdown",
      "source": [
        "### Loss"
      ],
      "metadata": {
        "id": "yIARJkOT96Gb"
      }
    },
    {
      "cell_type": "code",
      "source": [
        "plt.figure(figsize=(10, 5))\n",
        "plt.plot(cnn['train_loss'], color='r', label='Train')\n",
        "plt.plot(cnn['valid_loss'], color='b', label='Validation')\n",
        "plt.title('Loss')\n",
        "plt.legend(loc=\"best\")\n",
        "plt.savefig(\"drive/MyDrive/datasets/pictures/Training Loss vs Epochs\")\n",
        "plt.show()"
      ],
      "metadata": {
        "id": "sWVg4z1O-FjF",
        "outputId": "46b2c642-1f0c-4f2a-8bf6-2505b84e6601",
        "colab": {
          "base_uri": "https://localhost:8080/",
          "height": 336
        }
      },
      "execution_count": 38,
      "outputs": [
        {
          "output_type": "display_data",
          "data": {
            "text/plain": [
              "<Figure size 720x360 with 1 Axes>"
            ],
            "image/png": "[encoded data removed]"
          },
          "metadata": {
            "needs_background": "light"
          }
        }
      ]
    },
    {
      "cell_type": "markdown",
      "source": [
        "### Accuracy"
      ],
      "metadata": {
        "id": "2-spYcka-srE"
      }
    },
    {
      "cell_type": "code",
      "source": [
        "plt.figure(figsize=(10, 5))\n",
        "plt.plot(cnn['train_accu'], color='r', label='Train')\n",
        "plt.plot(cnn['valid_accu'], color='b', label='Validation')\n",
        "plt.title('Accuracy')\n",
        "plt.legend(loc=\"best\")\n",
        "plt.savefig(\"drive/MyDrive/datasets/pictures/Training Accuracy vs Epochs\")\n",
        "plt.show()"
      ],
      "metadata": {
        "id": "8ttQcH1j-uA-",
        "outputId": "42488177-0601-46ef-daf6-2052527ec2bc",
        "colab": {
          "base_uri": "https://localhost:8080/",
          "height": 336
        }
      },
      "execution_count": 43,
      "outputs": [
        {
          "output_type": "display_data",
          "data": {
            "text/plain": [
              "<Figure size 720x360 with 1 Axes>"
            ],
            "image/png": "[encoded data removed]"
          },
          "metadata": {
            "needs_background": "light"
          }
        }
      ]
    },
    {
      "cell_type": "markdown",
      "source": [
        "### Confusion Matrix"
      ],
      "metadata": {
        "id": "rPtt1T43_cz5"
      }
    },
    {
      "cell_type": "code",
      "source": [
        "cnn_m = np.zeros((10, 10))\n",
        "with open(Para.LOG_SAVE_FOLDER + 'CnnMatrix.json', 'r') as f:\n",
        "    cnn_l = json.load(f)\n",
        "\n",
        "for point in cnn_l:\n",
        "    i, j = point\n",
        "    cnn_m[i][j] += 1\n",
        "\n",
        "cnn_m/=sum(cnn_m)\n",
        "\n",
        "cnn_m = pd.DataFrame(cnn_m, index = [Para.dictionary.get(i) for i in range(10)],\n",
        "                  columns = [Para.dictionary.get(i) for i in range(10)],)"
      ],
      "metadata": {
        "id": "1rwA1ong_eu2"
      },
      "execution_count": 40,
      "outputs": []
    },
    {
      "cell_type": "code",
      "source": [
        "plt.figure(figsize=(10, 24))\n",
        "plt.subplot(3, 1, 1)\n",
        "plt.title('Confusion Matrix - CNN Model')\n",
        "sn.heatmap(cnn_m, annot=True,)\n",
        "plt.tight_layout()\n",
        "plt.savefig(\"drive/MyDrive/datasets/pictures/matrix\")"
      ],
      "metadata": {
        "id": "0LhIlZ45AEes",
        "outputId": "df77fb08-d782-4dbb-881f-d4169607ce47",
        "colab": {
          "base_uri": "https://localhost:8080/",
          "height": 609
        }
      },
      "execution_count": 55,
      "outputs": [
        {
          "output_type": "display_data",
          "data": {
            "text/plain": [
              "<Figure size 720x1728 with 2 Axes>"
            ],
            "image/png": "[encoded data removed]"
          },
          "metadata": {
            "needs_background": "light"
          }
        }
      ]
    },
    {
      "cell_type": "markdown",
      "source": [
        "## Full Song Test"
      ],
      "metadata": {
        "id": "te_CVV1p-Dhq"
      }
    },
    {
      "cell_type": "markdown",
      "source": [
        "### Accuracy of each genre"
      ],
      "metadata": {
        "id": "-KAMOWQO8ifS"
      }
    },
    {
      "cell_type": "code",
      "source": [
        "with open(Para.LOG_SAVE_FOLDER + 'cnnFullSongTest.json', 'r') as f:\n",
        "    cnnFullSongTest = json.load(f)\n",
        "\n",
        "plt.figure(figsize=(10, 10))\n",
        "plt.bar(range(len(cnnFullSongTest)), cnnFullSongTest.values(), \n",
        "        align='center', \n",
        "        color= '#008ac5',\n",
        "        label='cnn model')\n",
        "plt.xticks(range(len(cnnFullSongTest)), cnnFullSongTest.keys())\n",
        "plt.legend(loc=\"upper left\")\n",
        "plt.show()"
      ],
      "metadata": {
        "id": "NlKbgHqA8Cml",
        "outputId": "590b7cd1-9f4e-4d5d-b5f9-39715d292130",
        "colab": {
          "base_uri": "https://localhost:8080/",
          "height": 592
        }
      },
      "execution_count": 53,
      "outputs": [
        {
          "output_type": "display_data",
          "data": {
            "text/plain": [
              "<Figure size 720x720 with 1 Axes>"
            ],
            "image/png": "[encoded data removed]"
          },
          "metadata": {
            "needs_background": "light"
          }
        }
      ]
    }
  ]
}