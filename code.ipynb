{
  "nbformat": 4,
  "nbformat_minor": 0,
  "metadata": {
    "colab": {
      "name": "code.ipynb",
      "provenance": [],
      "collapsed_sections": [],
      "authorship_tag": "ABX9TyP5vN6AlNl+oG0S3ybvOlwE",
      "include_colab_link": true
    },
    "kernelspec": {
      "name": "python3",
      "display_name": "Python 3"
    },
    "language_info": {
      "name": "python"
    },
    "accelerator": "GPU"
  },
  "cells": [
    {
      "cell_type": "markdown",
      "metadata": {
        "id": "view-in-github",
        "colab_type": "text"
      },
      "source": [
        "<a href=\"https://colab.research.google.com/github/Sky0307/2022DLProject/blob/main/code.ipynb\" target=\"_parent\"><img src=\"https://colab.research.google.com/assets/colab-badge.svg\" alt=\"Open In Colab\"/></a>"
      ]
    },
    {
      "cell_type": "code",
      "execution_count": 18,
      "metadata": {
        "id": "A030ztCqkyBH"
      },
      "outputs": [],
      "source": [
        "import torch\n",
        "import pandas as pd\n",
        "import numpy as np\n",
        "import h5py\n",
        "from torch.utils.data import Dataset, DataLoader"
      ]
    },
    {
      "cell_type": "code",
      "source": [
        "# link to download the zip format of the data\n",
        "download_data_url = \"https://drive.google.com/file/u/1/d/1X3amA5n6RjYoY5QHdFfYOFfh9w3zbEU4/view\"\n",
        "\n",
        "# link to the actual dataset\n",
        "data_url = \"https://drive.google.com/drive/folders/1OUdNIIV1SD7eavLNWC8a3mpxqnGjL1Kb?usp=sharing\""
      ],
      "metadata": {
        "id": "ZtnvPsprmUMr"
      },
      "execution_count": null,
      "outputs": []
    },
    {
      "cell_type": "code",
      "source": [
        "from google.colab import drive\n",
        "drive.mount('/content/drive')"
      ],
      "metadata": {
        "colab": {
          "base_uri": "https://localhost:8080/"
        },
        "id": "jz1rKRY3l2pl",
        "outputId": "34d4fb4b-f9d0-407d-9d30-24cff9ccf048"
      },
      "execution_count": 9,
      "outputs": [
        {
          "output_type": "stream",
          "name": "stdout",
          "text": [
            "Mounted at /content/drive\n"
          ]
        }
      ]
    },
    {
      "cell_type": "code",
      "source": [
        "directory = \"drive/MyDrive/datasets\""
      ],
      "metadata": {
        "id": "jpmEXhdmo0jx"
      },
      "execution_count": 16,
      "outputs": []
    },
    {
      "cell_type": "markdown",
      "source": [
        "# Default Params"
      ],
      "metadata": {
        "id": "wVTkYfHjpwzh"
      }
    },
    {
      "cell_type": "code",
      "source": [
        "class Parameters:\n",
        "    def __init__(self):\n",
        "        self.batch_size = None\n",
        "        self.label_size = 10\n",
        "        self.epoch_num = None\n",
        "        self.sample_rate = 16000\n",
        "        self.use_cuda = True\n",
        "        self.cuda = torch.cuda.is_available() and self.use_cuda\n",
        "        self.log_step = None\n",
        "        self.dataset_len = None\n",
        "        self.dictionary = {0: 'pop',\n",
        "                           1: 'metal',\n",
        "                           2: 'disco',\n",
        "                           3: 'blues',\n",
        "                           4: 'reggae',\n",
        "                           5: 'classical',\n",
        "                           6: 'rock',\n",
        "                           7: 'hiphop',\n",
        "                           8: 'country',\n",
        "                           9: 'jazz'}\n",
        "        self.r_dictionary = {'pop': 0,\n",
        "                             'metal': 1,\n",
        "                             'disco': 2,\n",
        "                             'blues': 3,\n",
        "                             'reggae': 4,\n",
        "                             'classical': 5,\n",
        "                             'rock': 6,\n",
        "                             'hiphop': 7,\n",
        "                             'country': 8,\n",
        "                             'jazz': 9}\n",
        "\n",
        "        # On pure GTZAN dataset\n",
        "        self.TRAIN_DATA_PATH = directory + '/train.h5'\n",
        "        self.VAL_DATA_PATH = directory + '/valid.h5'\n",
        "        self.TEST_DATA_PATH = directory + '/test.h5'\n",
        "\n",
        "        # On hybrid dataset\n",
        "        self.A_TRAIN_DATA_PATH = directory + '/fin_train.h5'\n",
        "        self.A_VAL_DATA_PATH = directory + '/fin_valid.h5'\n",
        "        self.A_TEST_DATA_PATH = directory + '/fin_test.h5'\n",
        "\n",
        "        # On hybrid dataset\n",
        "        self.LA_TRAIN_DATA_PATH = directory + '/l_train.h5'\n",
        "        self.LA_VAL_DATA_PATH = directory + '/l_valid.h5'\n",
        "        self.LA_TEST_DATA_PATH = directory + '/l_test.h5'\n",
        "\n",
        "        self.MODEL_SAVE_FOlD = '../model/'\n",
        "        self.LOG_SAVE_FOLD = '../log/'\n",
        "\n",
        "        if self.cuda:\n",
        "            self.kwargs = {'num_workers': 1, 'pin_memory': True}\n",
        "        else:\n",
        "            self.kwargs = {}\n",
        "\n",
        "        self.learning_rate = 1e-5\n",
        "\n",
        "    def __str__(self):\n",
        "        out_string = \"The Batch Size is {0}\\n\" \\\n",
        "                     \"The Label Size is {1}\\n\" \\\n",
        "                     \"The Epoch Num is {2}\\n\" \\\n",
        "                     \"The Cuda is set to {3}\\n\" \\\n",
        "                     \"The log step is {4}\".format(self.batch_size,\n",
        "                                                  self.label_size,\n",
        "                                                  self.epoch_num,\n",
        "                                                  self.cuda,\n",
        "                                                  self.log_step)\n",
        "        return out_string"
      ],
      "metadata": {
        "id": "ItsugaINlmSP"
      },
      "execution_count": 19,
      "outputs": []
    },
    {
      "cell_type": "code",
      "source": [
        "class TorchData(Dataset):\n",
        "\n",
        "    def __init__(self, dataset_path):\n",
        "        \"\"\"\n",
        "        Take the h5py dataset\n",
        "        \"\"\"\n",
        "        super(TorchData, self).__init__()\n",
        "        self.dataset = h5py.File(dataset_path, 'r')\n",
        "        self.mel = self.dataset['mel']\n",
        "        self.tag = self.dataset['tag']\n",
        "\n",
        "        self.len = self.mel.shape[0]\n",
        "\n",
        "    def __len__(self):\n",
        "        return self.len\n",
        "\n",
        "    def __getitem__(self, index):\n",
        "        mel = self.mel[index].astype(np.float32)\n",
        "        mel = np.reshape(mel, (1, mel.shape[0], mel.shape[1]))\n",
        "        mel = torch.from_numpy(mel)\n",
        "        tag = torch.from_numpy(self.tag[index].astype(np.float32))\n",
        "        sample = {\"mel\": mel, \"tag\": tag}\n",
        "\n",
        "        return sample\n",
        "\n",
        "\n",
        "# define the data loaders\n",
        "def torch_dataset_loader(dataset, batch_size, shuffle, kwargs):\n",
        "    \"\"\"\n",
        "    take the h5py dataset\n",
        "    \"\"\"\n",
        "    loader = DataLoader(TorchData(dataset),\n",
        "                        batch_size=batch_size,\n",
        "                        shuffle=shuffle,\n",
        "                        **kwargs)\n",
        "    return loader"
      ],
      "metadata": {
        "id": "NP0WWxUtluic"
      },
      "execution_count": 20,
      "outputs": []
    },
    {
      "cell_type": "code",
      "source": [
        "Para = Parameters()\n",
        "print(Para)\n",
        "\n",
        "train_loader = torch_dataset_loader(Para.TRAIN_DATA_PATH, Para.batch_size, True, Para.kwargs)\n",
        "validation_loader = torch_dataset_loader(Para.VAL_DATA_PATH, Para.batch_size, False, Para.kwargs)\n",
        "test_loader = torch_dataset_loader(Para.TEST_DATA_PATH, Para.batch_size, False, Para.kwargs)\n",
        "\n",
        "fin_train_loader = torch_dataset_loader(Para.A_TRAIN_DATA_PATH, Para.batch_size, True, Para.kwargs)\n",
        "fin_validation_loader = torch_dataset_loader(Para.A_VAL_DATA_PATH, Para.batch_size, False, Para.kwargs)\n",
        "fin_test_loader = torch_dataset_loader(Para.A_TEST_DATA_PATH, Para.batch_size, False, Para.kwargs)\n",
        "\n",
        "l_train_loader = torch_dataset_loader(Para.LA_TRAIN_DATA_PATH, Para.batch_size, True, Para.kwargs)\n",
        "l_validation_loader = torch_dataset_loader(Para.LA_VAL_DATA_PATH, Para.batch_size, False, Para.kwargs)\n",
        "l_test_loader = torch_dataset_loader(Para.LA_TEST_DATA_PATH, Para.batch_size, False, Para.kwargs)\n",
        "\n",
        "for index, data_item in enumerate(fin_train_loader):\n",
        "    print(data_item['mel'].shape)\n",
        "    print(data_item['tag'].shape)\n",
        "    break"
      ],
      "metadata": {
        "colab": {
          "base_uri": "https://localhost:8080/"
        },
        "id": "BQq064yutBAW",
        "outputId": "2f943eea-65a2-422d-a81a-add0dfd2be1a"
      },
      "execution_count": 21,
      "outputs": [
        {
          "output_type": "stream",
          "name": "stdout",
          "text": [
            "The Batch Size is None\n",
            "The Label Size is 10\n",
            "The Epoch Num is None\n",
            "The Cuda is set to True\n",
            "The log step is None\n",
            "torch.Size([1, 128, 128])\n",
            "torch.Size([10])\n"
          ]
        }
      ]
    },
    {
      "cell_type": "code",
      "source": [
        ""
      ],
      "metadata": {
        "id": "hlFaD5GhtPna"
      },
      "execution_count": null,
      "outputs": []
    }
  ]
}